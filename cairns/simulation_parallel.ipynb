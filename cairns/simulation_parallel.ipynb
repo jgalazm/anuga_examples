{
 "cells": [
  {
   "cell_type": "markdown",
   "metadata": {},
   "source": [
    "# Parallel run of cairns example"
   ]
  },
  {
   "cell_type": "markdown",
   "metadata": {},
   "source": [
    "I assume to have run the simulation.ipynb notebook, except maybe for the last cell, before calling this. \n",
    "\n",
    "Actually, only need the mesh/bathymetry file"
   ]
  },
  {
   "cell_type": "code",
   "execution_count": 1,
   "metadata": {
    "collapsed": true
   },
   "outputs": [],
   "source": [
    "import sys\n",
    "stdout = sys.stdout"
   ]
  },
  {
   "cell_type": "code",
   "execution_count": 2,
   "metadata": {
    "collapsed": true
   },
   "outputs": [],
   "source": [
    "import numpy as np\n",
    "import matplotlib.pyplot as plt\n",
    "%matplotlib inline"
   ]
  },
  {
   "cell_type": "code",
   "execution_count": 3,
   "metadata": {
    "collapsed": false
   },
   "outputs": [
    {
     "name": "stdout",
     "output_type": "stream",
     "text": [
      "Writing runParallel.py\n"
     ]
    }
   ],
   "source": [
    "%%writefile runParallel.py\n",
    "\n",
    "import os\n",
    "import time\n",
    "import sys\n",
    "\n",
    "# Related major packages\n",
    "import anuga\n",
    "\n",
    "# The parallel interface\n",
    "from anuga import distribute, myid, numprocs, finalize, barrier"
   ]
  },
  {
   "cell_type": "code",
   "execution_count": 4,
   "metadata": {
    "collapsed": true
   },
   "outputs": [],
   "source": [
    "sys.stdout = stdout"
   ]
  },
  {
   "cell_type": "code",
   "execution_count": 5,
   "metadata": {
    "collapsed": false
   },
   "outputs": [
    {
     "name": "stdout",
     "output_type": "stream",
     "text": [
      "Appending to runParallel.py\n"
     ]
    }
   ],
   "source": [
    "%%writefile runParallel.py -a\n",
    "\n",
    "if myid==0:\n",
    "    base_scale = 100000 # 162170 triangles # 45sec fit\n",
    "    #base_scale = 400000 # 42093\n",
    "    default_res = 100 * base_scale   # Background resolution\n",
    "    islands_res = base_scale\n",
    "    cairns_res = base_scale\n",
    "    shallow_res = 5 * base_scale\n",
    "\n",
    "    bounding_polygon = anuga.read_polygon('extent.csv')\n",
    "    poly_cairns = anuga.read_polygon('cairns.csv')\n",
    "    poly_island0 = anuga.read_polygon('islands.csv')\n",
    "    poly_island1 = anuga.read_polygon('islands1.csv')\n",
    "    poly_island2 = anuga.read_polygon('islands2.csv')\n",
    "    poly_island3 = anuga.read_polygon('islands3.csv')\n",
    "    poly_shallow = anuga.read_polygon('shallow.csv')\n",
    "\n",
    "    # Define list of interior regions with associated rezsolutions\n",
    "    interior_regions = [[poly_cairns,  cairns_res],\n",
    "                        [poly_island0, islands_res],\n",
    "                        [poly_island1, islands_res],\n",
    "                        [poly_island2, islands_res],\n",
    "                        [poly_island3, islands_res],\n",
    "                        [poly_shallow, shallow_res]]\n",
    "\n",
    "    domain = anuga.create_domain_from_regions(bounding_polygon,\n",
    "                                            boundary_tags={'top': [0],\n",
    "                                                           'ocean_east': [1],\n",
    "                                                           'bottom': [2],\n",
    "                                                           'onshore': [3]},\n",
    "                                            maximum_triangle_area=default_res,\n",
    "                                            mesh_filename = 'cairns.msh',\n",
    "                                            interior_regions = interior_regions,\n",
    "                                            use_cache = True,\n",
    "                                            verbose = True)\n",
    "\n",
    "    # Print some stats about mesh and domain\n",
    "    print 'Number of triangles = ', len(domain)\n",
    "    print 'The extent is ', domain.get_extent()\n",
    "    print domain.statistics()\n",
    "    \n",
    "\n",
    "    #------------------------------------------------------------------------------\n",
    "    # Setup parameters of computational domain\n",
    "    #------------------------------------------------------------------------------\n",
    "    domain.set_name('cairns_fixed_wave') # Name of sww file\n",
    "    domain.set_datadir('.')                       # Store sww output here\n",
    "    domain.set_minimum_storable_height(0.01)      # Store only depth > 1cm\n",
    "    domain.set_flow_algorithm('DE2')\n",
    "\n",
    "    #------------------------------------------------------------------------------\n",
    "    # Setup initial conditions\n",
    "    #------------------------------------------------------------------------------\n",
    "    tide = 0.0\n",
    "    domain.set_quantity('stage', tide)\n",
    "    domain.set_quantity('friction', 0.0)\n",
    "    domain.set_quantity('elevation',\n",
    "                        filename='cairns.pts',\n",
    "                        use_cache = True,\n",
    "                        verbose = True,\n",
    "                        alpha=0.1)    \n",
    "else:\n",
    "    domain = None"
   ]
  },
  {
   "cell_type": "code",
   "execution_count": 6,
   "metadata": {
    "collapsed": false
   },
   "outputs": [
    {
     "name": "stdout",
     "output_type": "stream",
     "text": [
      "Appending to runParallel.py\n"
     ]
    }
   ],
   "source": [
    "%%writefile runParallel.py -a\n",
    "\n",
    "#------------------------------------------------------------------------------\n",
    "# Now produce parallel domain\n",
    "#------------------------------------------------------------------------------\n",
    "domain = distribute(domain,verbose=True)\n",
    "\n",
    "domain.set_store_vertices_uniquely(False)"
   ]
  },
  {
   "cell_type": "code",
   "execution_count": 7,
   "metadata": {
    "collapsed": false
   },
   "outputs": [
    {
     "name": "stdout",
     "output_type": "stream",
     "text": [
      "Appending to runParallel.py\n"
     ]
    }
   ],
   "source": [
    "%%writefile runParallel.py -a\n",
    "\n",
    "#------------------------------------------------------------------------------\n",
    "# Setup boundary conditions\n",
    "#------------------------------------------------------------------------------\n",
    "print 'Available boundary tags', domain.get_boundary_tags()\n",
    "tide = 0.0\n",
    "Bd = anuga.Dirichlet_boundary([tide, 0, 0]) # Mean water level\n",
    "Bs = anuga.Transmissive_stage_zero_momentum_boundary(domain) # Neutral boundary\n",
    "\n",
    "# Huge 50m wave starting after 60 seconds and lasting 1 hour.\n",
    "Bw = anuga.Transmissive_n_momentum_zero_t_momentum_set_stage_boundary(\n",
    "                    domain=domain, \n",
    "                    function=lambda t: [(60<t<3660)*10.0, 0, 0])\n",
    "\n",
    "domain.set_boundary({'ocean_east': Bw,\n",
    "                     'bottom': Bs,\n",
    "                     'onshore': Bd,\n",
    "                     'top': Bs})"
   ]
  },
  {
   "cell_type": "code",
   "execution_count": 8,
   "metadata": {
    "collapsed": false
   },
   "outputs": [
    {
     "name": "stdout",
     "output_type": "stream",
     "text": [
      "Appending to runParallel.py\n"
     ]
    }
   ],
   "source": [
    "%%writefile runParallel.py -a\n",
    "\n",
    "#------------------------------------------------------------------------------\n",
    "# Evolve system through time\n",
    "#------------------------------------------------------------------------------\n",
    "import time\n",
    "t0 = time.time()\n",
    "\n",
    "# Save every two mins leading up to wave approaching land\n",
    "for t in domain.evolve(yieldstep=2*60, finaltime=5000):\n",
    "    if myid == 0:\n",
    "        print domain.timestepping_statistics()\n",
    "        #print domain.boundary_statistics(tags='ocean_east')\n",
    "\n",
    "# Save every 30 secs as wave starts inundating ashore\n",
    "for t in domain.evolve(yieldstep=60*0.5, finaltime=10000, \n",
    "                       skip_initial_step=True):\n",
    "    if myid == 0:\n",
    "        print domain.timestepping_statistics()\n",
    "        #print domain.boundary_statistics(tags='ocean_east')"
   ]
  },
  {
   "cell_type": "code",
   "execution_count": 9,
   "metadata": {
    "collapsed": false
   },
   "outputs": [
    {
     "name": "stdout",
     "output_type": "stream",
     "text": [
      "Appending to runParallel.py\n"
     ]
    }
   ],
   "source": [
    "%%writefile runParallel.py -a\n",
    "\n",
    "domain.sww_merge(delete_old=True,verbose=True)"
   ]
  },
  {
   "cell_type": "code",
   "execution_count": 10,
   "metadata": {
    "collapsed": false
   },
   "outputs": [
    {
     "name": "stdout",
     "output_type": "stream",
     "text": [
      "Appending to runParallel.py\n"
     ]
    }
   ],
   "source": [
    "%%writefile runParallel.py -a\n",
    "\n",
    "if myid == 0:\n",
    "    print 'That took %.2f seconds' %(time.time()-t0)\n",
    "finalize()"
   ]
  },
  {
   "cell_type": "code",
   "execution_count": 11,
   "metadata": {
    "collapsed": false
   },
   "outputs": [
    {
     "name": "stdout",
     "output_type": "stream",
     "text": [
      "\r\n",
      "import os\r\n",
      "import time\r\n",
      "import sys\r\n",
      "\r\n",
      "# Related major packages\r\n",
      "import anuga\r\n",
      "\r\n",
      "# The parallel interface\r\n",
      "from anuga import distribute, myid, numprocs, finalize, barrier\r\n",
      "if myid==0:\r\n",
      "    base_scale = 100000 # 162170 triangles # 45sec fit\r\n",
      "    #base_scale = 400000 # 42093\r\n",
      "    default_res = 100 * base_scale   # Background resolution\r\n",
      "    islands_res = base_scale\r\n",
      "    cairns_res = base_scale\r\n",
      "    shallow_res = 5 * base_scale\r\n",
      "\r\n",
      "    bounding_polygon = anuga.read_polygon('extent.csv')\r\n",
      "    poly_cairns = anuga.read_polygon('cairns.csv')\r\n",
      "    poly_island0 = anuga.read_polygon('islands.csv')\r\n",
      "    poly_island1 = anuga.read_polygon('islands1.csv')\r\n",
      "    poly_island2 = anuga.read_polygon('islands2.csv')\r\n",
      "    poly_island3 = anuga.read_polygon('islands3.csv')\r\n",
      "    poly_shallow = anuga.read_polygon('shallow.csv')\r\n",
      "\r\n",
      "    # Define list of interior regions with associated rezsolutions\r\n",
      "    interior_regions = [[poly_cairns,  cairns_res],\r\n",
      "                        [poly_island0, islands_res],\r\n",
      "                        [poly_island1, islands_res],\r\n",
      "                        [poly_island2, islands_res],\r\n",
      "                        [poly_island3, islands_res],\r\n",
      "                        [poly_shallow, shallow_res]]\r\n",
      "\r\n",
      "    domain = anuga.create_domain_from_regions(bounding_polygon,\r\n",
      "                                            boundary_tags={'top': [0],\r\n",
      "                                                           'ocean_east': [1],\r\n",
      "                                                           'bottom': [2],\r\n",
      "                                                           'onshore': [3]},\r\n",
      "                                            maximum_triangle_area=default_res,\r\n",
      "                                            mesh_filename = 'cairns.msh',\r\n",
      "                                            interior_regions = interior_regions,\r\n",
      "                                            use_cache = True,\r\n",
      "                                            verbose = True)\r\n",
      "\r\n",
      "    # Print some stats about mesh and domain\r\n",
      "    print 'Number of triangles = ', len(domain)\r\n",
      "    print 'The extent is ', domain.get_extent()\r\n",
      "    print domain.statistics()\r\n",
      "    \r\n",
      "\r\n",
      "    #------------------------------------------------------------------------------\r\n",
      "    # Setup parameters of computational domain\r\n",
      "    #------------------------------------------------------------------------------\r\n",
      "    domain.set_name('cairns_fixed_wave') # Name of sww file\r\n",
      "    domain.set_datadir('.')                       # Store sww output here\r\n",
      "    domain.set_minimum_storable_height(0.01)      # Store only depth > 1cm\r\n",
      "    domain.set_flow_algorithm('DE2')\r\n",
      "\r\n",
      "    #------------------------------------------------------------------------------\r\n",
      "    # Setup initial conditions\r\n",
      "    #------------------------------------------------------------------------------\r\n",
      "    tide = 0.0\r\n",
      "    domain.set_quantity('stage', tide)\r\n",
      "    domain.set_quantity('friction', 0.0)\r\n",
      "    domain.set_quantity('elevation',\r\n",
      "                        filename='cairns.pts',\r\n",
      "                        use_cache = True,\r\n",
      "                        verbose = True,\r\n",
      "                        alpha=0.1)    \r\n",
      "else:\r\n",
      "    domain = None\r\n",
      "#------------------------------------------------------------------------------\r\n",
      "# Now produce parallel domain\r\n",
      "#------------------------------------------------------------------------------\r\n",
      "domain = distribute(domain,verbose=True)\r\n",
      "\r\n",
      "domain.set_store_vertices_uniquely(False)\r\n",
      "#------------------------------------------------------------------------------\r\n",
      "# Setup boundary conditions\r\n",
      "#------------------------------------------------------------------------------\r\n",
      "print 'Available boundary tags', domain.get_boundary_tags()\r\n",
      "tide = 0.0\r\n",
      "Bd = anuga.Dirichlet_boundary([tide, 0, 0]) # Mean water level\r\n",
      "Bs = anuga.Transmissive_stage_zero_momentum_boundary(domain) # Neutral boundary\r\n",
      "\r\n",
      "# Huge 50m wave starting after 60 seconds and lasting 1 hour.\r\n",
      "Bw = anuga.Transmissive_n_momentum_zero_t_momentum_set_stage_boundary(\r\n",
      "                    domain=domain, \r\n",
      "                    function=lambda t: [(60<t<3660)*10.0, 0, 0])\r\n",
      "\r\n",
      "domain.set_boundary({'ocean_east': Bw,\r\n",
      "                     'bottom': Bs,\r\n",
      "                     'onshore': Bd,\r\n",
      "                     'top': Bs})\r\n",
      "#------------------------------------------------------------------------------\r\n",
      "# Evolve system through time\r\n",
      "#------------------------------------------------------------------------------\r\n",
      "import time\r\n",
      "t0 = time.time()\r\n",
      "\r\n",
      "# Save every two mins leading up to wave approaching land\r\n",
      "for t in domain.evolve(yieldstep=2*60, finaltime=5000):\r\n",
      "    if myid == 0:\r\n",
      "        print domain.timestepping_statistics()\r\n",
      "        #print domain.boundary_statistics(tags='ocean_east')\r\n",
      "\r\n",
      "# Save every 30 secs as wave starts inundating ashore\r\n",
      "for t in domain.evolve(yieldstep=60*0.5, finaltime=10000, \r\n",
      "                       skip_initial_step=True):\r\n",
      "    if myid == 0:\r\n",
      "        print domain.timestepping_statistics()\r\n",
      "        #print domain.boundary_statistics(tags='ocean_east')\r\n",
      "domain.sww_merge(delete_old=True,verbose=True)\r\n",
      "if myid == 0:\r\n",
      "    print 'That took %.2f seconds' %(time.time()-t0)\r\n",
      "finalize()"
     ]
    }
   ],
   "source": [
    "!cat runParallel.py"
   ]
  }
 ],
 "metadata": {
  "anaconda-cloud": {},
  "kernelspec": {
   "display_name": "Python [conda root]",
   "language": "python",
   "name": "conda-root-py"
  },
  "language_info": {
   "codemirror_mode": {
    "name": "ipython",
    "version": 2
   },
   "file_extension": ".py",
   "mimetype": "text/x-python",
   "name": "python",
   "nbconvert_exporter": "python",
   "pygments_lexer": "ipython2",
   "version": "2.7.12"
  }
 },
 "nbformat": 4,
 "nbformat_minor": 2
}
