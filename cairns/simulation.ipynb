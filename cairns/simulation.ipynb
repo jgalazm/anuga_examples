{
 "cells": [
  {
   "cell_type": "markdown",
   "metadata": {},
   "source": [
    "# Setup and simulation of Cairns example"
   ]
  },
  {
   "cell_type": "markdown",
   "metadata": {},
   "source": [
    "** So, it seems anuga replaces stdout and the notebook does not like it, so as seen in [this post](http://stackoverflow.com/questions/25494182/print-not-showing-in-ipython-notebook-python), I store the original and restore it afterwards **"
   ]
  },
  {
   "cell_type": "code",
   "execution_count": 1,
   "metadata": {
    "collapsed": true
   },
   "outputs": [],
   "source": [
    "import sys\n",
    "stdout = sys.stdout"
   ]
  },
  {
   "cell_type": "code",
   "execution_count": 2,
   "metadata": {
    "collapsed": true
   },
   "outputs": [],
   "source": [
    "import matplotlib.pyplot as plt\n",
    "%matplotlib inline \n",
    "plt.style.use('ggplot')\n",
    "import anuga"
   ]
  },
  {
   "cell_type": "code",
   "execution_count": 3,
   "metadata": {
    "collapsed": true
   },
   "outputs": [],
   "source": [
    "sys.stdout = stdout"
   ]
  },
  {
   "cell_type": "markdown",
   "metadata": {},
   "source": [
    "## Configuring the simulation\n",
    "\n",
    "Files required:\n",
    "* **extent.csv**, points that define the outer bounding polygon\n",
    "* **cairns.csv**, points that define one of the inner regions of the grid\n",
    "* **islands.csv**, points that define one of the inner regions of the grid\n",
    "* **islands1.csv**, points that define one of the inner regions of the grid\n",
    "* **islands2.csv**, points that define one of the inner regions of the grid\n",
    "* **islands3.csv**, points that define one of the inner regions of the grid\n",
    "* **shallow.csv**, points that define one of the inner regions of the grid\n",
    "* **cairns.prj**, file that describes the UTM zone of the simulation"
   ]
  },
  {
   "cell_type": "code",
   "execution_count": 4,
   "metadata": {
    "collapsed": true
   },
   "outputs": [],
   "source": [
    "cache = False\n",
    "verbose = True"
   ]
  },
  {
   "cell_type": "code",
   "execution_count": 5,
   "metadata": {
    "collapsed": true
   },
   "outputs": [],
   "source": [
    "name_stem = 'cairns'"
   ]
  },
  {
   "cell_type": "markdown",
   "metadata": {},
   "source": [
    "* Polygon"
   ]
  },
  {
   "cell_type": "code",
   "execution_count": 6,
   "metadata": {
    "collapsed": false
   },
   "outputs": [
    {
     "name": "stdout",
     "output_type": "stream",
     "text": [
      "Area of bounding polygon = 107720.35 km^2\n"
     ]
    }
   ],
   "source": [
    "bounding_polygon = anuga.read_polygon('extent.csv')\n",
    "\n",
    "A = anuga.polygon_area(bounding_polygon) / 1000000.0\n",
    "print 'Area of bounding polygon = %.2f km^2' % A"
   ]
  },
  {
   "cell_type": "markdown",
   "metadata": {},
   "source": [
    "* Inside regions"
   ]
  },
  {
   "cell_type": "code",
   "execution_count": 7,
   "metadata": {
    "collapsed": true
   },
   "outputs": [],
   "source": [
    "poly_cairns = anuga.read_polygon('cairns.csv')\n",
    "poly_island0 = anuga.read_polygon('islands.csv')\n",
    "poly_island1 = anuga.read_polygon('islands1.csv')\n",
    "poly_island2 = anuga.read_polygon('islands2.csv')\n",
    "poly_island3 = anuga.read_polygon('islands3.csv')\n",
    "poly_shallow = anuga.read_polygon('shallow.csv')"
   ]
  },
  {
   "cell_type": "markdown",
   "metadata": {},
   "source": [
    "* Define resolutions (max area per triangle) for each polygon\n",
    "* Make these numbers larger to reduce the number of triangles in the model, and hence speed up the simulation"
   ]
  },
  {
   "cell_type": "code",
   "execution_count": 8,
   "metadata": {
    "collapsed": true
   },
   "outputs": [],
   "source": [
    "# bigger base_scale == less triangles\n",
    "just_fitting = False\n",
    "#base_scale = 25000 # 635763 # 112sec fit\n",
    "#base_scale = 50000 # 321403 # 69sec fit\n",
    "base_scale = 100000 # 162170 triangles # 45sec fit\n",
    "#base_scale = 400000 # 42093\n",
    "default_res = 100 * base_scale   # Background resolution\n",
    "islands_res = base_scale\n",
    "cairns_res = base_scale\n",
    "shallow_res = 5 * base_scale"
   ]
  },
  {
   "cell_type": "code",
   "execution_count": 9,
   "metadata": {
    "collapsed": false
   },
   "outputs": [],
   "source": [
    "# Define list of interior regions with associated rezsolutions\n",
    "interior_regions = [[poly_cairns,  cairns_res],\n",
    "                    [poly_island0, islands_res],\n",
    "                    [poly_island1, islands_res],\n",
    "                    [poly_island2, islands_res],\n",
    "                    [poly_island3, islands_res],\n",
    "                    [poly_shallow, shallow_res]]"
   ]
  },
  {
   "cell_type": "code",
   "execution_count": 10,
   "metadata": {
    "collapsed": false
   },
   "outputs": [],
   "source": [
    "#------------------------------------------------------------------------------\n",
    "# Data for exporting ascii grid\n",
    "#------------------------------------------------------------------------------\n",
    "eastingmin = 363000\n",
    "#eastingmax = 418000\n",
    "eastingmax = 418000\n",
    "northingmin = 8026600\n",
    "northingmax = 8145700"
   ]
  },
  {
   "cell_type": "markdown",
   "metadata": {},
   "source": [
    "# Running the simulation"
   ]
  },
  {
   "cell_type": "code",
   "execution_count": 11,
   "metadata": {
    "collapsed": true
   },
   "outputs": [],
   "source": [
    "import os\n",
    "import time\n",
    "import sys"
   ]
  },
  {
   "cell_type": "markdown",
   "metadata": {},
   "source": [
    "## Preparation of topographic data\n",
    "\n",
    "### Convert ASC to DEM to PTS using source data and store result in source data"
   ]
  },
  {
   "cell_type": "markdown",
   "metadata": {},
   "source": [
    "* Unzip asc from zip file"
   ]
  },
  {
   "cell_type": "code",
   "execution_count": 15,
   "metadata": {
    "collapsed": false
   },
   "outputs": [
    {
     "name": "stdout",
     "output_type": "stream",
     "text": [
      "Reading ASC from cairns.zip\n"
     ]
    },
    {
     "data": {
      "text/plain": [
       "'/media/jose/Docs/github/anuga_examples/cairns/cairns.asc'"
      ]
     },
     "execution_count": 15,
     "metadata": {},
     "output_type": "execute_result"
    }
   ],
   "source": [
    "import zipfile as zf\n",
    "if verbose: print 'Reading ASC from cairns.zip'\n",
    "zf.ZipFile('cairns.zip').extract('cairns.asc')"
   ]
  },
  {
   "cell_type": "markdown",
   "metadata": {},
   "source": [
    "* Convert unzipped asc to dem, requires cairns.prj file"
   ]
  },
  {
   "cell_type": "code",
   "execution_count": 16,
   "metadata": {
    "collapsed": false
   },
   "outputs": [
    {
     "name": "stdout",
     "output_type": "stream",
     "text": [
      "Reading METADATA from cairns.prj\n",
      "Reading DEM from cairns.asc\n",
      "Got 1194 lines\n",
      "Store to NetCDF file cairns.dem\n"
     ]
    }
   ],
   "source": [
    "anuga.asc2dem('cairns.asc', use_cache=cache, \n",
    "              verbose=verbose)"
   ]
  },
  {
   "cell_type": "markdown",
   "metadata": {},
   "source": [
    "* Create pts file for onshore DEM"
   ]
  },
  {
   "cell_type": "code",
   "execution_count": 17,
   "metadata": {
    "collapsed": false
   },
   "outputs": [
    {
     "name": "stdout",
     "output_type": "stream",
     "text": [
      "Reading DEM from cairns.dem\n",
      "Store to NetCDF file cairns.pts\n",
      "There are 1881792 values in the elevation\n",
      "There are 1881792 values in the clipped elevation\n",
      "There are 18234 NODATA_values in the clipped elevation\n"
     ]
    }
   ],
   "source": [
    "anuga.dem2pts(name_stem+'.dem', use_cache=cache, \n",
    "              verbose=verbose)"
   ]
  },
  {
   "cell_type": "markdown",
   "metadata": {},
   "source": [
    "## Create the triangular mesh and domain"
   ]
  },
  {
   "cell_type": "code",
   "execution_count": 18,
   "metadata": {
    "collapsed": false
   },
   "outputs": [
    {
     "name": "stdout",
     "output_type": "stream",
     "text": [
      "Generating mesh to file 'cairns.msh'\n",
      "Domain: Initialising\n",
      "Pmesh_to_Domain: Initialising\n",
      "Pmesh_to_Domain: Done\n",
      "General_mesh: Building basic mesh structure\n",
      "General_mesh: Computing areas, normals, edgelengths, centroids and radii\n",
      "General Mesh: Building inverted triangle structure\n",
      "Mesh: Initialising\n",
      "Mesh: Building neigbour structure\n",
      "Mesh: Building surrogate neigbour structure\n",
      "Mesh: Building boundary dictionary\n",
      "Mesh: Building tagged elements dictionary\n",
      "Mesh: Done\n",
      "Domain: Expose mesh attributes\n",
      "Domain: Expose quantity names and types\n",
      "Domain: Build Quantities\n",
      "Domain: Set up communication buffers \n",
      "Domain: Set up triangle/node full flags \n",
      "Domain: Set defaults\n",
      "Domain: Set work arrays\n",
      "Domain: Initialising quantity values\n",
      "Domain: Done\n",
      "##########################################################################\n",
      "#\n",
      "# Using discontinuous elevation solver DE0\n",
      "#\n",
      "# First order timestepping\n",
      "#\n",
      "# Make sure you use centroid values when reporting on important output quantities\n",
      "#\n",
      "##########################################################################\n"
     ]
    }
   ],
   "source": [
    "domain = anuga.create_domain_from_regions(bounding_polygon,\n",
    "                                    boundary_tags={'top': [0],\n",
    "                                                   'ocean_east': [1],\n",
    "                                                   'bottom': [2],\n",
    "                                                   'onshore': [3]},\n",
    "                                    maximum_triangle_area=default_res,\n",
    "                                    mesh_filename='cairns.msh',\n",
    "                                    interior_regions=interior_regions,\n",
    "                                    use_cache=cache,\n",
    "                                    verbose=verbose)"
   ]
  },
  {
   "cell_type": "code",
   "execution_count": 19,
   "metadata": {
    "collapsed": false
   },
   "outputs": [
    {
     "name": "stdout",
     "output_type": "stream",
     "text": [
      "Number of triangles =  162170\n",
      "The extent is  (0.0, 410914.80000000005, 0.0, 311171.37000000011)\n",
      "------------------------------------------------\n",
      "Mesh statistics:\n",
      "  Number of triangles = 162170\n",
      "  Extent [m]:\n",
      "    x in [0.00000e+00, 4.10915e+05]\n",
      "    y in [0.00000e+00, 3.11171e+05]\n",
      "  Areas [m^2]:\n",
      "    A in [2.20532e+04, 9.99835e+06]\n",
      "    number of distinct areas: 162170\n",
      "    Histogram:\n",
      "      [2.20532e+04, 1.01968e+06[: 148143\n",
      "      [1.01968e+06, 2.01731e+06[: 1026\n",
      "      [2.01731e+06, 3.01494e+06[: 396\n",
      "      [3.01494e+06, 4.01257e+06[: 404\n",
      "      [4.01257e+06, 5.01020e+06[: 2173\n",
      "      [5.01020e+06, 6.00783e+06[: 3260\n",
      "      [6.00783e+06, 7.00546e+06[: 2674\n",
      "      [7.00546e+06, 8.00309e+06[: 2116\n",
      "      [8.00309e+06, 9.00072e+06[: 1256\n",
      "      [9.00072e+06, 9.99835e+06]: 722\n",
      "    Percentiles (10 percent):\n",
      "      16217 triangles in [2.20532e+04, 5.03522e+04]\n",
      "      16217 triangles in [5.03522e+04, 5.75329e+04]\n",
      "      16217 triangles in [5.75329e+04, 6.57625e+04]\n",
      "      16217 triangles in [6.57625e+04, 7.51833e+04]\n",
      "      16217 triangles in [7.51833e+04, 8.80696e+04]\n",
      "      16217 triangles in [8.80696e+04, 2.39306e+05]\n",
      "      16217 triangles in [2.39306e+05, 2.93763e+05]\n",
      "      16217 triangles in [2.93763e+05, 3.62366e+05]\n",
      "      16217 triangles in [3.62366e+05, 4.84475e+05]\n",
      "      16217 triangles in [4.84475e+05, 9.99835e+06]\n",
      "  Boundary:\n",
      "    Number of boundary segments == 332\n",
      "    Boundary tags == ['ocean_east', 'top', 'onshore', 'bottom']\n",
      "------------------------------------------------\n",
      "\n"
     ]
    }
   ],
   "source": [
    "# Print some stats about mesh and domain\n",
    "print 'Number of triangles = ', len(domain)\n",
    "print 'The extent is ', domain.get_extent()\n",
    "print domain.statistics()\n",
    "                         "
   ]
  },
  {
   "cell_type": "markdown",
   "metadata": {},
   "source": [
    "Setup parameters of computational domain"
   ]
  },
  {
   "cell_type": "code",
   "execution_count": 22,
   "metadata": {
    "collapsed": false
   },
   "outputs": [
    {
     "name": "stdout",
     "output_type": "stream",
     "text": [
      "##########################################################################\n",
      "#\n",
      "# Using discontinuous elevation solver DE0\n",
      "#\n",
      "# First order timestepping\n",
      "#\n",
      "# Make sure you use centroid values when reporting on important output quantities\n",
      "#\n",
      "##########################################################################\n"
     ]
    }
   ],
   "source": [
    "domain.set_name('cairns_fixed_wave') # Name of sww file\n",
    "domain.set_datadir('.')                       # Store sww output here\n",
    "domain.set_minimum_storable_height(0.01)      # Store only depth > 1cm\n",
    "domain.set_flow_algorithm('DE0')"
   ]
  },
  {
   "cell_type": "markdown",
   "metadata": {},
   "source": [
    "\n",
    "## Setup initial condition and bathymetry\n"
   ]
  },
  {
   "cell_type": "code",
   "execution_count": 23,
   "metadata": {
    "collapsed": false
   },
   "outputs": [
    {
     "name": "stdout",
     "output_type": "stream",
     "text": [
      "FitInterpolate: Building quad tree\n",
      "Building smoothing matrix\n",
      "Fit.fit: Initializing\n",
      "Geospatial_data: Created from file: cairns.pts\n",
      "Data will be loaded blockwise on demand\n",
      "Got 1 variables: [u'elevation']\n",
      "WARNING: Units of METERS specified.\n",
      "Default units is m.\n",
      "ANUGA does not correct for differences in units.\n",
      "Geospatial_data: Reading 1863558 points (in 2 block(s)) from file cairns.pts. \n",
      "Geospatial_data: Each block consists of 1000000 data points\n",
      "\n",
      "Geospatial_data: Reading block 0 (points 0 to 1000000) out of 1\n",
      "\b.\n",
      "Geospatial_data: Reading block 1 (points 1000000 to 1863558) out of 1\n",
      " \b. \n",
      "Fit.fit: Warning: no data points in fit\n",
      "Applying fitted data to domain\n",
      "That took 539.86 seconds to fit data\n"
     ]
    }
   ],
   "source": [
    "tide = 0.0\n",
    "domain.set_quantity('stage', tide)\n",
    "domain.set_quantity('friction', 0.0)\n",
    "\n",
    "\n",
    "domain.set_quantity('elevation', \n",
    "                    filename='cairns.pts',\n",
    "                    use_cache=cache,\n",
    "                    verbose=verbose,\n",
    "                    alpha=0.1)\n",
    "time01 = time.time()\n",
    "print 'That took %.2f seconds to fit data' %(time01-time00)"
   ]
  },
  {
   "cell_type": "markdown",
   "metadata": {},
   "source": [
    "## Setup boundary conditions"
   ]
  },
  {
   "cell_type": "code",
   "execution_count": 24,
   "metadata": {
    "collapsed": false
   },
   "outputs": [
    {
     "name": "stdout",
     "output_type": "stream",
     "text": [
      "Available boundary tags ['ocean_east', 'top', 'onshore', 'bottom']\n"
     ]
    }
   ],
   "source": [
    "print 'Available boundary tags', domain.get_boundary_tags()\n",
    "\n",
    "Bd = anuga.Dirichlet_boundary([tide, 0, 0]) # Mean water level\n",
    "Bs = anuga.Transmissive_stage_zero_momentum_boundary(domain) # Neutral boundary"
   ]
  },
  {
   "cell_type": "markdown",
   "metadata": {},
   "source": [
    "Huge 50m wave starting after 60 seconds and lasting 1 hour."
   ]
  },
  {
   "cell_type": "code",
   "execution_count": 25,
   "metadata": {
    "collapsed": true
   },
   "outputs": [],
   "source": [
    "Bw = anuga.Transmissive_n_momentum_zero_t_momentum_set_stage_boundary(\n",
    "                    domain=domain, \n",
    "                    function=lambda t: [(60<t<3660)*10, 0, 0])\n",
    "\n",
    "domain.set_boundary({'ocean_east': Bw,\n",
    "                     'bottom': Bs,\n",
    "                     'onshore': Bd,\n",
    "                     'top': Bs})"
   ]
  },
  {
   "cell_type": "markdown",
   "metadata": {},
   "source": [
    "# Evolve system through time"
   ]
  },
  {
   "cell_type": "code",
   "execution_count": null,
   "metadata": {
    "collapsed": true
   },
   "outputs": [],
   "source": [
    "import time\n",
    "t0 = time.time()\n",
    "\n",
    "from numpy import allclose\n",
    "\n",
    "# Save every two mins leading up to wave approaching land\n",
    "for t in domain.evolve(yieldstep=2*60, finaltime=5000): \n",
    "    print domain.timestepping_statistics()\n",
    "    print domain.boundary_statistics(tags='ocean_east')    \n",
    "\n",
    "# Save every 30 secs as wave starts inundating ashore\n",
    "for t in domain.evolve(yieldstep=60*0.5, finaltime=10000, \n",
    "                       skip_initial_step=True):\n",
    "    print domain.timestepping_statistics()\n",
    "    print domain.boundary_statistics(tags='ocean_east')\n",
    "            \n",
    "print 'That took %.2f seconds' %(time.time()-t0)"
   ]
  },
  {
   "cell_type": "code",
   "execution_count": null,
   "metadata": {
    "collapsed": true
   },
   "outputs": [],
   "source": []
  }
 ],
 "metadata": {
  "anaconda-cloud": {},
  "kernelspec": {
   "display_name": "Python [default]",
   "language": "python",
   "name": "python2"
  },
  "language_info": {
   "codemirror_mode": {
    "name": "ipython",
    "version": 2
   },
   "file_extension": ".py",
   "mimetype": "text/x-python",
   "name": "python",
   "nbconvert_exporter": "python",
   "pygments_lexer": "ipython2",
   "version": "2.7.12"
  }
 },
 "nbformat": 4,
 "nbformat_minor": 2
}
